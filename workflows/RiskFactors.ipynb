{
 "cells": [
  {
   "cell_type": "markdown",
   "metadata": {},
   "source": [
    "# [The SMART Risk Score Abstract](https://www.escardio.org/Education/ESC-Prevention-of-CVD-Programme/Risk-assessment/SMART-Risk-Score)\n",
    "\n",
    "The Second Manifestations of Arterial Disease (SMART) addresses the gap for estimation risk in patients with previous cardiovascular disease, including coronary artery disease (CAD), cerebrovascular disease (CVD), peripheral artery disease (PAD), abdominal aortic aneurysm (AAA) and polyvascular disease.The SMART risk score can be used to estimate the 10-year risk for myocardial infarction, stroke or vascular death in individual patients with clinically manifest atherosclerotic vascular disease (ASCVD). [1]\n",
    "\n",
    "The SMART risk score estimations are based on easy-to-measure clinical patient characteristics. Completion of all fields is required to estimate 10-year risk. However, when the high-sensitivity C-reactive protein (hsCRP) or high-density lipoprotein cholesterol (HDL-c) levels are not available, the calculator will impute the population median instead. Choosing this option, of course, will slightly affect the accuracy of the calculator output.\n",
    "\n",
    "The SMART risk score was developed in a population of vascular patients in the Netherlands that were included in the Secondary Manifestations of Arterial Disease (SMART)-study. [1] External validation and updating were performed in pooled trial cohorts of 18,436 vascular patients from W-Europe, S-Europe, Israel, USA, Canada, Mexico, S-Africa, Australia, and N-Zealand. [2] Among its strengths are multinational validity and hence, high generalizability, the use of standard measures, ease of use with no cost involved.\n",
    "\n",
    "Research to date has shown significant heterogeneity in the estimated 10-year risk in patients with previous cardiovascular disease ranging from <10% to >50% risk of recurrent vascular events . \n",
    "\n",
    "This illustrates that a single one-size approach to secondary prevention is inappropriate. [3] The identification of high-risk patients using this risk stratification tool will prompt the practitioner to engage intensive treatments and follow-up strategies, and to encourage the patients to adhere to therapy in order to achieve the risk factor targeted.\n",
    "\n",
    "## U-Prevent Calculator Tool\n",
    "<img src=\"../data/img/uprevent_calculator_form1.png\" alt = \"test pic\" style = \"width:1182px; height=702px;\">\n",
    "\n",
    "<img src=\"../data/img/uprevent_calculator_SMART_score.png\" alt = \"test pic\" style = \"width:1182px; height=702px;\">\n",
    "\n",
    "<img src=\"../data/img/uprevent_calculator_final_score.png\" alt = \"test pic\" style = \"width:1182px; height=702px;\">\n",
    "\n",
    "\n",
    "### References \n",
    "\n",
    "[1] Dorresteijn JA, Visseren FL, Wassink AM, et al. Development and validation of a prediction rule for recurrent vascular events based on a cohort study of patients with arterial disease: the SMART risk score. Heart. 2013 Jun;99(12):866-72.\n",
    "\n",
    "[2] Kaasenbrood L, Boekholdt SM, van der Graaf Y, et al. Distribution of Estimated 10-Year Risk of Recurrent Vascular Events and Residual Risk in a Secondary Prevention Population. Circulation. 2016 Nov 8;134(19):1419-1429.\n",
    "\n",
    "[3] Jensen J. Risk Prediction: Are We There Yet? Circulation. November 8, 2016; 134(19):1441-1443."
   ]
  },
  {
   "cell_type": "markdown",
   "metadata": {},
   "source": []
  }
 ],
 "metadata": {
  "language_info": {
   "name": "python"
  }
 },
 "nbformat": 4,
 "nbformat_minor": 2
}
